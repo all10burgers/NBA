{
 "cells": [
  {
   "cell_type": "code",
   "execution_count": null,
   "metadata": {},
   "outputs": [],
   "source": [
    "import pandas as pd\n",
    "import numpy as np\n",
    "import time\n",
    "import urllib.request \n",
    "from bs4 import BeautifulSoup\n",
    "import tensorflow"
   ]
  },
  {
   "cell_type": "code",
   "execution_count": null,
   "metadata": {},
   "outputs": [],
   "source": [
    "def get_2024(team):\n",
    "\n",
    "    with urllib.request.urlopen(\"https://www.basketball-reference.com/teams/{team}/2024.html\") as response:\n",
    "\n",
    "        html = response.read()\n",
    "    \n",
    "    soup = BeautifulSoup(html,'html.parser')\n",
    "    print(soup.prettify)\n"
   ]
  }
 ],
 "metadata": {
  "language_info": {
   "name": "python"
  }
 },
 "nbformat": 4,
 "nbformat_minor": 2
}
